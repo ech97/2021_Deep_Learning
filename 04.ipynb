{
 "metadata": {
  "language_info": {
   "codemirror_mode": {
    "name": "ipython",
    "version": 3
   },
   "file_extension": ".py",
   "mimetype": "text/x-python",
   "name": "python",
   "nbconvert_exporter": "python",
   "pygments_lexer": "ipython3",
   "version": "3.7.9-final"
  },
  "orig_nbformat": 2,
  "kernelspec": {
   "name": "python3",
   "display_name": "Python 3.7.9 64-bit ('torch': conda)",
   "metadata": {
    "interpreter": {
     "hash": "e6f3713aacb63e723142ec0502099100a8554c8484a81513712c8681b2f4c41b"
    }
   }
  }
 },
 "nbformat": 4,
 "nbformat_minor": 2,
 "cells": [
  {
   "source": [
    "# Data Frame 이용해서 학습시키기"
   ],
   "cell_type": "markdown",
   "metadata": {}
  },
  {
   "cell_type": "code",
   "execution_count": 1,
   "metadata": {},
   "outputs": [],
   "source": [
    "import tensorflow as tf \n",
    "from tensorflow.keras import layers\n",
    "\n",
    "from tensorflow.keras import datasets\n",
    "from tensorflow.keras.preprocessing.image import ImageDataGenerator"
   ]
  },
  {
   "cell_type": "code",
   "execution_count": 2,
   "metadata": {},
   "outputs": [],
   "source": [
    "num_epochs = 10\n",
    "batch_size = 32\n",
    "\n",
    "learning_rate = 0.001\n",
    "\n",
    "dropout_rate = 0.5\n",
    "\n",
    "input_shape = (28, 28, 1)\n",
    "num_classes = 10"
   ]
  },
  {
   "source": [
    "## Preprocess"
   ],
   "cell_type": "markdown",
   "metadata": {}
  },
  {
   "cell_type": "code",
   "execution_count": 3,
   "metadata": {},
   "outputs": [],
   "source": [
    "import pandas as pd"
   ]
  },
  {
   "cell_type": "code",
   "execution_count": 4,
   "metadata": {},
   "outputs": [
    {
     "output_type": "execute_result",
     "data": {
      "text/plain": [
       "                                       name       class\n",
       "0            dataset/cifar/train\\0_frog.png        frog\n",
       "1  dataset/cifar/train\\10000_automobile.png  automobile\n",
       "2        dataset/cifar/train\\10001_frog.png        frog\n",
       "3        dataset/cifar/train\\10002_frog.png        frog\n",
       "4        dataset/cifar/train\\10003_ship.png        ship"
      ],
      "text/html": "<div>\n<style scoped>\n    .dataframe tbody tr th:only-of-type {\n        vertical-align: middle;\n    }\n\n    .dataframe tbody tr th {\n        vertical-align: top;\n    }\n\n    .dataframe thead th {\n        text-align: right;\n    }\n</style>\n<table border=\"1\" class=\"dataframe\">\n  <thead>\n    <tr style=\"text-align: right;\">\n      <th></th>\n      <th>name</th>\n      <th>class</th>\n    </tr>\n  </thead>\n  <tbody>\n    <tr>\n      <th>0</th>\n      <td>dataset/cifar/train\\0_frog.png</td>\n      <td>frog</td>\n    </tr>\n    <tr>\n      <th>1</th>\n      <td>dataset/cifar/train\\10000_automobile.png</td>\n      <td>automobile</td>\n    </tr>\n    <tr>\n      <th>2</th>\n      <td>dataset/cifar/train\\10001_frog.png</td>\n      <td>frog</td>\n    </tr>\n    <tr>\n      <th>3</th>\n      <td>dataset/cifar/train\\10002_frog.png</td>\n      <td>frog</td>\n    </tr>\n    <tr>\n      <th>4</th>\n      <td>dataset/cifar/train\\10003_ship.png</td>\n      <td>ship</td>\n    </tr>\n  </tbody>\n</table>\n</div>"
     },
     "metadata": {},
     "execution_count": 4
    }
   ],
   "source": [
    "train_df = pd.read_csv('./csv/train_dataset.csv')\n",
    "train_df.head()"
   ]
  },
  {
   "cell_type": "code",
   "execution_count": 5,
   "metadata": {},
   "outputs": [
    {
     "output_type": "execute_result",
     "data": {
      "text/plain": [
       "                                   name     class\n",
       "0          dataset/cifar/test\\0_cat.png       cat\n",
       "1       dataset/cifar/test\\1000_dog.png       dog\n",
       "2  dataset/cifar/test\\1001_airplane.png  airplane\n",
       "3      dataset/cifar/test\\1002_ship.png      ship\n",
       "4      dataset/cifar/test\\1003_deer.png      deer"
      ],
      "text/html": "<div>\n<style scoped>\n    .dataframe tbody tr th:only-of-type {\n        vertical-align: middle;\n    }\n\n    .dataframe tbody tr th {\n        vertical-align: top;\n    }\n\n    .dataframe thead th {\n        text-align: right;\n    }\n</style>\n<table border=\"1\" class=\"dataframe\">\n  <thead>\n    <tr style=\"text-align: right;\">\n      <th></th>\n      <th>name</th>\n      <th>class</th>\n    </tr>\n  </thead>\n  <tbody>\n    <tr>\n      <th>0</th>\n      <td>dataset/cifar/test\\0_cat.png</td>\n      <td>cat</td>\n    </tr>\n    <tr>\n      <th>1</th>\n      <td>dataset/cifar/test\\1000_dog.png</td>\n      <td>dog</td>\n    </tr>\n    <tr>\n      <th>2</th>\n      <td>dataset/cifar/test\\1001_airplane.png</td>\n      <td>airplane</td>\n    </tr>\n    <tr>\n      <th>3</th>\n      <td>dataset/cifar/test\\1002_ship.png</td>\n      <td>ship</td>\n    </tr>\n    <tr>\n      <th>4</th>\n      <td>dataset/cifar/test\\1003_deer.png</td>\n      <td>deer</td>\n    </tr>\n  </tbody>\n</table>\n</div>"
     },
     "metadata": {},
     "execution_count": 5
    }
   ],
   "source": [
    "test_df = pd.read_csv('./csv/test_dataset.csv')\n",
    "test_df.head()"
   ]
  },
  {
   "cell_type": "code",
   "execution_count": 7,
   "metadata": {},
   "outputs": [],
   "source": [
    "train_datagen = ImageDataGenerator(\n",
    "    rescale = 1./255.,\n",
    "    width_shift_range=0.3,\n",
    "    zoom_range=0.2,\n",
    "    horizontal_flip=True\n",
    ")\n",
    "\n",
    "test_datagen = ImageDataGenerator(\n",
    "    rescale = 1./255.\n",
    ")"
   ]
  },
  {
   "cell_type": "code",
   "execution_count": 8,
   "metadata": {},
   "outputs": [
    {
     "output_type": "stream",
     "name": "stdout",
     "text": [
      "Found 50000 validated image filenames belonging to 10 classes.\n",
      "Found 10000 validated image filenames belonging to 10 classes.\n"
     ]
    }
   ],
   "source": [
    "train_generator = train_datagen.flow_from_dataframe(    # from directory 말고 from dataframe\n",
    "    train_df,\n",
    "    x_col = 'name', # 경로 설정 (filename이 기본값. 그래서 만들때 filename으로 써놓는게 베스트)\n",
    "    y_col = 'class', # class축 설정 (class가 기본값)\n",
    "    target_size = input_shape[:2],# 채널은 필요없다는\n",
    "    batch_size = batch_size\n",
    ")\n",
    "\n",
    "test_generator = test_datagen.flow_from_dataframe(\n",
    "    test_df,\n",
    "    x_col = 'name',\n",
    "    y_col = 'class',\n",
    "    target_size = input_shape[:2],# 채널은 필요없다는\n",
    "    batch_size = batch_size\n",
    ")"
   ]
  },
  {
   "source": [
    "## Build Model"
   ],
   "cell_type": "markdown",
   "metadata": {}
  },
  {
   "cell_type": "code",
   "execution_count": 9,
   "metadata": {},
   "outputs": [],
   "source": [
    "inputs = layers.Input(input_shape)\n",
    "net = layers.Conv2D(32, (3, 3), padding='SAME')(inputs)\n",
    "net = layers.Activation('relu')(net)\n",
    "net = layers.Conv2D(32, (3, 3), padding='SAME')(inputs)\n",
    "net = layers.Activation('relu')(net)\n",
    "net = layers.MaxPooling2D(pool_size=(2, 2))(net)\n",
    "net = layers.Dropout(dropout_rate)(net)\n",
    "\n",
    "net = layers.Conv2D(64, (3, 3), padding='SAME')(net)\n",
    "net = layers.Activation('relu')(net)\n",
    "net = layers.Conv2D(64, (3, 3), padding='SAME')(net)\n",
    "net = layers.Activation('relu')(net)\n",
    "net = layers.MaxPooling2D(pool_size=(2, 2))(net)\n",
    "net = layers.Dropout(dropout_rate)(net)\n",
    "\n",
    "net = layers.Flatten()(net)\n",
    "net = layers.Dense(512)(net)\n",
    "net = layers.Activation('relu')(net)\n",
    "net = layers.Dropout(dropout_rate)(net)\n",
    "net = layers.Dense(num_classes)(net)\n",
    "net = layers.Activation('softmax')(net)\n",
    "\n",
    "model = tf.keras.Model(inputs=inputs, outputs=net, name='Basic_CNN')"
   ]
  },
  {
   "cell_type": "code",
   "execution_count": 10,
   "metadata": {},
   "outputs": [],
   "source": [
    "model.compile(optimizer = \n",
    "    tf.keras.optimizers.Adam(learning_rate),\n",
    "    loss = 'categorical_crossentropy',\n",
    "    metrics=['accuracy'])"
   ]
  },
  {
   "source": [
    "## Training"
   ],
   "cell_type": "markdown",
   "metadata": {}
  },
  {
   "cell_type": "code",
   "execution_count": 11,
   "metadata": {},
   "outputs": [
    {
     "output_type": "execute_result",
     "data": {
      "text/plain": [
       "1563"
      ]
     },
     "metadata": {},
     "execution_count": 11
    }
   ],
   "source": [
    "len(train_generator) ## len(train_df) // 32"
   ]
  },
  {
   "cell_type": "code",
   "execution_count": null,
   "metadata": {},
   "outputs": [],
   "source": [
    "model.fit_generator(\n",
    "    train_generator,\n",
    "    steps_per_epoch=len(train_generator),\n",
    "    epochs = num_epochs,\n",
    "    validation_data = test_generator,\n",
    "    validation_steps=len(test_generator)\n",
    ")"
   ]
  }
 ]
}