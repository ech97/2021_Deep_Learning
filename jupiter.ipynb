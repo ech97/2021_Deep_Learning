{
 "metadata": {
  "language_info": {
   "codemirror_mode": {
    "name": "ipython",
    "version": 3
   },
   "file_extension": ".py",
   "mimetype": "text/x-python",
   "name": "python",
   "nbconvert_exporter": "python",
   "pygments_lexer": "ipython3",
   "version": "3.7.8-final"
  },
  "orig_nbformat": 2,
  "kernelspec": {
   "name": "python37864bittensorflowvenv10b5cbcd7cd74bb9aca26b9edce6abe3",
   "display_name": "Python 3.7.8 64-bit ('tensorflow': venv)"
  }
 },
 "nbformat": 4,
 "nbformat_minor": 2,
 "cells": [
  {
   "source": [
    "## 기본적인 Jypiter 사용법\n",
    "\n",
    "### 단축키\n",
    "- Enter // Ctrl+m\n",
    "- Shift + Enter\n",
    "- Ctrl + Enter = 실행하고 그대로\n",
    "- dd / c / x / p / a / b\n",
    "- m (markdown) // y (code)\n",
    "- shift + m (합치기)\n",
    "- ctrl + shift + - (분리하기)\n",
    "- ctrl + /"
   ],
   "cell_type": "code",
   "metadata": {},
   "execution_count": null,
   "outputs": []
  },
  {
   "cell_type": "code",
   "execution_count": 7,
   "metadata": {
    "tags": []
   },
   "outputs": [
    {
     "output_type": "stream",
     "name": "stdout",
     "text": "Downloading data from https://storage.googleapis.com/tensorflow/tf-keras-datasets/train-labels-idx1-ubyte.gz\n32768/29515 [=================================] - 0s 0us/step\nDownloading data from https://storage.googleapis.com/tensorflow/tf-keras-datasets/train-images-idx3-ubyte.gz\n26427392/26421880 [==============================] - 2s 0us/step\nDownloading data from https://storage.googleapis.com/tensorflow/tf-keras-datasets/t10k-labels-idx1-ubyte.gz\n8192/5148 [===============================================] - 0s 0us/step\nDownloading data from https://storage.googleapis.com/tensorflow/tf-keras-datasets/t10k-images-idx3-ubyte.gz\n4423680/4422102 [==============================] - 0s 0us/step\n"
    },
    {
     "output_type": "execute_result",
     "data": {
      "text/plain": "((60000, 28, 28), (60000,))"
     },
     "metadata": {},
     "execution_count": 7
    }
   ],
   "source": [
    "import tensorflow as tf\n",
    "from tensorflow import keras\n",
    "import numpy as np\n",
    "import pandas as pd\n",
    "import matplotlib.pyplot as plt\n",
    "\n",
    "mnist = keras.datasets.fashion_mnist\n",
    "type(mnist) \n",
    "(X_train, y_train), (X_test, y_test) = mnist.load_data()\n"
   ]
  },
  {
   "cell_type": "code",
   "execution_count": 8,
   "metadata": {},
   "outputs": [
    {
     "output_type": "display_data",
     "data": {
      "text/plain": "<Figure size 432x288 with 1 Axes>",
      "image/svg+xml": "<?xml version=\"1.0\" encoding=\"utf-8\" standalone=\"no\"?>\r\n<!DOCTYPE svg PUBLIC \"-//W3C//DTD SVG 1.1//EN\"\r\n  \"http://www.w3.org/Graphics/SVG/1.1/DTD/svg11.dtd\">\r\n<!-- Created with matplotlib (https://matplotlib.org/) -->\r\n<svg height=\"248.518125pt\" version=\"1.1\" viewBox=\"0 0 251.565 248.518125\" width=\"251.565pt\" xmlns=\"http://www.w3.org/2000/svg\" xmlns:xlink=\"http://www.w3.org/1999/xlink\">\r\n <metadata>\r\n  <rdf:RDF xmlns:cc=\"http://creativecommons.org/ns#\" xmlns:dc=\"http://purl.org/dc/elements/1.1/\" xmlns:rdf=\"http://www.w3.org/1999/02/22-rdf-syntax-ns#\">\r\n   <cc:Work>\r\n    <dc:type rdf:resource=\"http://purl.org/dc/dcmitype/StillImage\"/>\r\n    <dc:date>2020-09-20T21:51:44.166802</dc:date>\r\n    <dc:format>image/svg+xml</dc:format>\r\n    <dc:creator>\r\n     <cc:Agent>\r\n      <dc:title>Matplotlib v3.3.1, https://matplotlib.org/</dc:title>\r\n     </cc:Agent>\r\n    </dc:creator>\r\n   </cc:Work>\r\n  </rdf:RDF>\r\n </metadata>\r\n <defs>\r\n  <style type=\"text/css\">*{stroke-linecap:butt;stroke-linejoin:round;}</style>\r\n </defs>\r\n <g id=\"figure_1\">\r\n  <g id=\"patch_1\">\r\n   <path d=\"M 0 248.518125 \r\nL 251.565 248.518125 \r\nL 251.565 0 \r\nL 0 0 \r\nz\r\n\" style=\"fill:none;\"/>\r\n  </g>\r\n  <g id=\"axes_1\">\r\n   <g id=\"patch_2\">\r\n    <path d=\"M 26.925 224.64 \r\nL 244.365 224.64 \r\nL 244.365 7.2 \r\nL 26.925 7.2 \r\nz\r\n\" style=\"fill:#ffffff;\"/>\r\n   </g>\r\n   <g clip-path=\"url(#p2e012adffe)\">\r\n    <image height=\"218\" id=\"image7db0f77306\" transform=\"scale(1 -1)translate(0 -218)\" width=\"218\" x=\"26.925\" xlink:href=\"data:image/png;base64,\r\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\" y=\"-6.64\"/>\r\n   </g>\r\n   <g id=\"matplotlib.axis_1\">\r\n    <g id=\"xtick_1\">\r\n     <g id=\"line2d_1\">\r\n      <defs>\r\n       <path d=\"M 0 0 \r\nL 0 3.5 \r\n\" id=\"m9a9d759d8c\" style=\"stroke:#000000;stroke-width:0.8;\"/>\r\n      </defs>\r\n      <g>\r\n       <use style=\"stroke:#000000;stroke-width:0.8;\" x=\"30.807857\" xlink:href=\"#m9a9d759d8c\" y=\"224.64\"/>\r\n      </g>\r\n     </g>\r\n     <g id=\"text_1\">\r\n      <!-- 0 -->\r\n      <g transform=\"translate(27.626607 239.238437)scale(0.1 -0.1)\">\r\n       <defs>\r\n        <path d=\"M 31.78125 66.40625 \r\nQ 24.171875 66.40625 20.328125 58.90625 \r\nQ 16.5 51.421875 16.5 36.375 \r\nQ 16.5 21.390625 20.328125 13.890625 \r\nQ 24.171875 6.390625 31.78125 6.390625 \r\nQ 39.453125 6.390625 43.28125 13.890625 \r\nQ 47.125 21.390625 47.125 36.375 \r\nQ 47.125 51.421875 43.28125 58.90625 \r\nQ 39.453125 66.40625 31.78125 66.40625 \r\nz\r\nM 31.78125 74.21875 \r\nQ 44.046875 74.21875 50.515625 64.515625 \r\nQ 56.984375 54.828125 56.984375 36.375 \r\nQ 56.984375 17.96875 50.515625 8.265625 \r\nQ 44.046875 -1.421875 31.78125 -1.421875 \r\nQ 19.53125 -1.421875 13.0625 8.265625 \r\nQ 6.59375 17.96875 6.59375 36.375 \r\nQ 6.59375 54.828125 13.0625 64.515625 \r\nQ 19.53125 74.21875 31.78125 74.21875 \r\nz\r\n\" id=\"DejaVuSans-48\"/>\r\n       </defs>\r\n       <use xlink:href=\"#DejaVuSans-48\"/>\r\n      </g>\r\n     </g>\r\n    </g>\r\n    <g id=\"xtick_2\">\r\n     <g id=\"line2d_2\">\r\n      <g>\r\n       <use style=\"stroke:#000000;stroke-width:0.8;\" x=\"69.636429\" xlink:href=\"#m9a9d759d8c\" y=\"224.64\"/>\r\n      </g>\r\n     </g>\r\n     <g id=\"text_2\">\r\n      <!-- 5 -->\r\n      <g transform=\"translate(66.455179 239.238437)scale(0.1 -0.1)\">\r\n       <defs>\r\n        <path d=\"M 10.796875 72.90625 \r\nL 49.515625 72.90625 \r\nL 49.515625 64.59375 \r\nL 19.828125 64.59375 \r\nL 19.828125 46.734375 \r\nQ 21.96875 47.46875 24.109375 47.828125 \r\nQ 26.265625 48.1875 28.421875 48.1875 \r\nQ 40.625 48.1875 47.75 41.5 \r\nQ 54.890625 34.8125 54.890625 23.390625 \r\nQ 54.890625 11.625 47.5625 5.09375 \r\nQ 40.234375 -1.421875 26.90625 -1.421875 \r\nQ 22.3125 -1.421875 17.546875 -0.640625 \r\nQ 12.796875 0.140625 7.71875 1.703125 \r\nL 7.71875 11.625 \r\nQ 12.109375 9.234375 16.796875 8.0625 \r\nQ 21.484375 6.890625 26.703125 6.890625 \r\nQ 35.15625 6.890625 40.078125 11.328125 \r\nQ 45.015625 15.765625 45.015625 23.390625 \r\nQ 45.015625 31 40.078125 35.4375 \r\nQ 35.15625 39.890625 26.703125 39.890625 \r\nQ 22.75 39.890625 18.8125 39.015625 \r\nQ 14.890625 38.140625 10.796875 36.28125 \r\nz\r\n\" id=\"DejaVuSans-53\"/>\r\n       </defs>\r\n       <use xlink:href=\"#DejaVuSans-53\"/>\r\n      </g>\r\n     </g>\r\n    </g>\r\n    <g id=\"xtick_3\">\r\n     <g id=\"line2d_3\">\r\n      <g>\r\n       <use style=\"stroke:#000000;stroke-width:0.8;\" x=\"108.465\" xlink:href=\"#m9a9d759d8c\" y=\"224.64\"/>\r\n      </g>\r\n     </g>\r\n     <g id=\"text_3\">\r\n      <!-- 10 -->\r\n      <g transform=\"translate(102.1025 239.238437)scale(0.1 -0.1)\">\r\n       <defs>\r\n        <path d=\"M 12.40625 8.296875 \r\nL 28.515625 8.296875 \r\nL 28.515625 63.921875 \r\nL 10.984375 60.40625 \r\nL 10.984375 69.390625 \r\nL 28.421875 72.90625 \r\nL 38.28125 72.90625 \r\nL 38.28125 8.296875 \r\nL 54.390625 8.296875 \r\nL 54.390625 0 \r\nL 12.40625 0 \r\nz\r\n\" id=\"DejaVuSans-49\"/>\r\n       </defs>\r\n       <use xlink:href=\"#DejaVuSans-49\"/>\r\n       <use x=\"63.623047\" xlink:href=\"#DejaVuSans-48\"/>\r\n      </g>\r\n     </g>\r\n    </g>\r\n    <g id=\"xtick_4\">\r\n     <g id=\"line2d_4\">\r\n      <g>\r\n       <use style=\"stroke:#000000;stroke-width:0.8;\" x=\"147.293571\" xlink:href=\"#m9a9d759d8c\" y=\"224.64\"/>\r\n      </g>\r\n     </g>\r\n     <g id=\"text_4\">\r\n      <!-- 15 -->\r\n      <g transform=\"translate(140.931071 239.238437)scale(0.1 -0.1)\">\r\n       <use xlink:href=\"#DejaVuSans-49\"/>\r\n       <use x=\"63.623047\" xlink:href=\"#DejaVuSans-53\"/>\r\n      </g>\r\n     </g>\r\n    </g>\r\n    <g id=\"xtick_5\">\r\n     <g id=\"line2d_5\">\r\n      <g>\r\n       <use style=\"stroke:#000000;stroke-width:0.8;\" x=\"186.122143\" xlink:href=\"#m9a9d759d8c\" y=\"224.64\"/>\r\n      </g>\r\n     </g>\r\n     <g id=\"text_5\">\r\n      <!-- 20 -->\r\n      <g transform=\"translate(179.759643 239.238437)scale(0.1 -0.1)\">\r\n       <defs>\r\n        <path d=\"M 19.1875 8.296875 \r\nL 53.609375 8.296875 \r\nL 53.609375 0 \r\nL 7.328125 0 \r\nL 7.328125 8.296875 \r\nQ 12.9375 14.109375 22.625 23.890625 \r\nQ 32.328125 33.6875 34.8125 36.53125 \r\nQ 39.546875 41.84375 41.421875 45.53125 \r\nQ 43.3125 49.21875 43.3125 52.78125 \r\nQ 43.3125 58.59375 39.234375 62.25 \r\nQ 35.15625 65.921875 28.609375 65.921875 \r\nQ 23.96875 65.921875 18.8125 64.3125 \r\nQ 13.671875 62.703125 7.8125 59.421875 \r\nL 7.8125 69.390625 \r\nQ 13.765625 71.78125 18.9375 73 \r\nQ 24.125 74.21875 28.421875 74.21875 \r\nQ 39.75 74.21875 46.484375 68.546875 \r\nQ 53.21875 62.890625 53.21875 53.421875 \r\nQ 53.21875 48.921875 51.53125 44.890625 \r\nQ 49.859375 40.875 45.40625 35.40625 \r\nQ 44.1875 33.984375 37.640625 27.21875 \r\nQ 31.109375 20.453125 19.1875 8.296875 \r\nz\r\n\" id=\"DejaVuSans-50\"/>\r\n       </defs>\r\n       <use xlink:href=\"#DejaVuSans-50\"/>\r\n       <use x=\"63.623047\" xlink:href=\"#DejaVuSans-48\"/>\r\n      </g>\r\n     </g>\r\n    </g>\r\n    <g id=\"xtick_6\">\r\n     <g id=\"line2d_6\">\r\n      <g>\r\n       <use style=\"stroke:#000000;stroke-width:0.8;\" x=\"224.950714\" xlink:href=\"#m9a9d759d8c\" y=\"224.64\"/>\r\n      </g>\r\n     </g>\r\n     <g id=\"text_6\">\r\n      <!-- 25 -->\r\n      <g transform=\"translate(218.588214 239.238437)scale(0.1 -0.1)\">\r\n       <use xlink:href=\"#DejaVuSans-50\"/>\r\n       <use x=\"63.623047\" xlink:href=\"#DejaVuSans-53\"/>\r\n      </g>\r\n     </g>\r\n    </g>\r\n   </g>\r\n   <g id=\"matplotlib.axis_2\">\r\n    <g id=\"ytick_1\">\r\n     <g id=\"line2d_7\">\r\n      <defs>\r\n       <path d=\"M 0 0 \r\nL -3.5 0 \r\n\" id=\"mf9259b3ba2\" style=\"stroke:#000000;stroke-width:0.8;\"/>\r\n      </defs>\r\n      <g>\r\n       <use style=\"stroke:#000000;stroke-width:0.8;\" x=\"26.925\" xlink:href=\"#mf9259b3ba2\" y=\"11.082857\"/>\r\n      </g>\r\n     </g>\r\n     <g id=\"text_7\">\r\n      <!-- 0 -->\r\n      <g transform=\"translate(13.5625 14.882076)scale(0.1 -0.1)\">\r\n       <use xlink:href=\"#DejaVuSans-48\"/>\r\n      </g>\r\n     </g>\r\n    </g>\r\n    <g id=\"ytick_2\">\r\n     <g id=\"line2d_8\">\r\n      <g>\r\n       <use style=\"stroke:#000000;stroke-width:0.8;\" x=\"26.925\" xlink:href=\"#mf9259b3ba2\" y=\"49.911429\"/>\r\n      </g>\r\n     </g>\r\n     <g id=\"text_8\">\r\n      <!-- 5 -->\r\n      <g transform=\"translate(13.5625 53.710647)scale(0.1 -0.1)\">\r\n       <use xlink:href=\"#DejaVuSans-53\"/>\r\n      </g>\r\n     </g>\r\n    </g>\r\n    <g id=\"ytick_3\">\r\n     <g id=\"line2d_9\">\r\n      <g>\r\n       <use style=\"stroke:#000000;stroke-width:0.8;\" x=\"26.925\" xlink:href=\"#mf9259b3ba2\" y=\"88.74\"/>\r\n      </g>\r\n     </g>\r\n     <g id=\"text_9\">\r\n      <!-- 10 -->\r\n      <g transform=\"translate(7.2 92.539219)scale(0.1 -0.1)\">\r\n       <use xlink:href=\"#DejaVuSans-49\"/>\r\n       <use x=\"63.623047\" xlink:href=\"#DejaVuSans-48\"/>\r\n      </g>\r\n     </g>\r\n    </g>\r\n    <g id=\"ytick_4\">\r\n     <g id=\"line2d_10\">\r\n      <g>\r\n       <use style=\"stroke:#000000;stroke-width:0.8;\" x=\"26.925\" xlink:href=\"#mf9259b3ba2\" y=\"127.568571\"/>\r\n      </g>\r\n     </g>\r\n     <g id=\"text_10\">\r\n      <!-- 15 -->\r\n      <g transform=\"translate(7.2 131.36779)scale(0.1 -0.1)\">\r\n       <use xlink:href=\"#DejaVuSans-49\"/>\r\n       <use x=\"63.623047\" xlink:href=\"#DejaVuSans-53\"/>\r\n      </g>\r\n     </g>\r\n    </g>\r\n    <g id=\"ytick_5\">\r\n     <g id=\"line2d_11\">\r\n      <g>\r\n       <use style=\"stroke:#000000;stroke-width:0.8;\" x=\"26.925\" xlink:href=\"#mf9259b3ba2\" y=\"166.397143\"/>\r\n      </g>\r\n     </g>\r\n     <g id=\"text_11\">\r\n      <!-- 20 -->\r\n      <g transform=\"translate(7.2 170.196362)scale(0.1 -0.1)\">\r\n       <use xlink:href=\"#DejaVuSans-50\"/>\r\n       <use x=\"63.623047\" xlink:href=\"#DejaVuSans-48\"/>\r\n      </g>\r\n     </g>\r\n    </g>\r\n    <g id=\"ytick_6\">\r\n     <g id=\"line2d_12\">\r\n      <g>\r\n       <use style=\"stroke:#000000;stroke-width:0.8;\" x=\"26.925\" xlink:href=\"#mf9259b3ba2\" y=\"205.225714\"/>\r\n      </g>\r\n     </g>\r\n     <g id=\"text_12\">\r\n      <!-- 25 -->\r\n      <g transform=\"translate(7.2 209.024933)scale(0.1 -0.1)\">\r\n       <use xlink:href=\"#DejaVuSans-50\"/>\r\n       <use x=\"63.623047\" xlink:href=\"#DejaVuSans-53\"/>\r\n      </g>\r\n     </g>\r\n    </g>\r\n   </g>\r\n   <g id=\"patch_3\">\r\n    <path d=\"M 26.925 224.64 \r\nL 26.925 7.2 \r\n\" style=\"fill:none;stroke:#000000;stroke-linecap:square;stroke-linejoin:miter;stroke-width:0.8;\"/>\r\n   </g>\r\n   <g id=\"patch_4\">\r\n    <path d=\"M 244.365 224.64 \r\nL 244.365 7.2 \r\n\" style=\"fill:none;stroke:#000000;stroke-linecap:square;stroke-linejoin:miter;stroke-width:0.8;\"/>\r\n   </g>\r\n   <g id=\"patch_5\">\r\n    <path d=\"M 26.925 224.64 \r\nL 244.365 224.64 \r\n\" style=\"fill:none;stroke:#000000;stroke-linecap:square;stroke-linejoin:miter;stroke-width:0.8;\"/>\r\n   </g>\r\n   <g id=\"patch_6\">\r\n    <path d=\"M 26.925 7.2 \r\nL 244.365 7.2 \r\n\" style=\"fill:none;stroke:#000000;stroke-linecap:square;stroke-linejoin:miter;stroke-width:0.8;\"/>\r\n   </g>\r\n  </g>\r\n </g>\r\n <defs>\r\n  <clipPath id=\"p2e012adffe\">\r\n   <rect height=\"217.44\" width=\"217.44\" x=\"26.925\" y=\"7.2\"/>\r\n  </clipPath>\r\n </defs>\r\n</svg>\r\n",
      "image/png": "[encoded data removed]"
     },
     "metadata": {
      "needs_background": "light"
     }
    }
   ],
   "source": [
    "class_name = ['top', 'trouser', 'pullover', 'dress', 'coat', 'sendal', 'shirt', 'sneaker', 'bag', 'ankle boot']\n",
    "plt.figure()\n",
    "plt.imshow(X_train[0])\n",
    "X_train = X_train/255.0\n",
    "X_test = X_test/255.0"
   ]
  },
  {
   "cell_type": "code",
   "execution_count": 9,
   "metadata": {
    "tags": []
   },
   "outputs": [
    {
     "output_type": "stream",
     "name": "stdout",
     "text": "Model: \"sequential_1\"\n_________________________________________________________________\nLayer (type)                 Output Shape              Param #   \n=================================================================\nflatten_1 (Flatten)          (None, 784)               0         \n_________________________________________________________________\ndense_2 (Dense)              (None, 28)                21980     \n_________________________________________________________________\ndense_3 (Dense)              (None, 10)                290       \n=================================================================\nTotal params: 22,270\nTrainable params: 22,270\nNon-trainable params: 0\n_________________________________________________________________\nEpoch 1/10\n1875/1875 [==============================] - 1s 749us/step - loss: 0.5682 - accuracy: 0.8044\nEpoch 2/10\n1875/1875 [==============================] - 1s 692us/step - loss: 0.4351 - accuracy: 0.8498\nEpoch 3/10\n1875/1875 [==============================] - 1s 688us/step - loss: 0.4053 - accuracy: 0.8584\nEpoch 4/10\n1875/1875 [==============================] - 1s 683us/step - loss: 0.3803 - accuracy: 0.8657\nEpoch 5/10\n1875/1875 [==============================] - 1s 749us/step - loss: 0.3606 - accuracy: 0.8708\nEpoch 6/10\n1875/1875 [==============================] - 1s 707us/step - loss: 0.3464 - accuracy: 0.8756\nEpoch 7/10\n1875/1875 [==============================] - 1s 745us/step - loss: 0.3347 - accuracy: 0.8774\nEpoch 8/10\n1875/1875 [==============================] - 1s 744us/step - loss: 0.3262 - accuracy: 0.8817\nEpoch 9/10\n1875/1875 [==============================] - 1s 704us/step - loss: 0.3158 - accuracy: 0.8845\nEpoch 10/10\n1875/1875 [==============================] - 1s 701us/step - loss: 0.3076 - accuracy: 0.8877\n313/313 [==============================] - 0s 546us/step - loss: 0.3825 - accuracy: 0.8624\n0.3825280964374542\n0.8623999953269958\n"
    }
   ],
   "source": [
    "from tensorflow.keras import Sequential\n",
    "from tensorflow.keras.layers import Flatten, Dense\n",
    "\n",
    "model = Sequential()\n",
    "model.add(Flatten(input_shape=(28,28)))\n",
    "model.add(Dense(28, activation = 'relu'))\n",
    "model.add(Dense(10, activation = 'softmax'))\n",
    "\n",
    "model.summary()\n",
    "\n",
    "model.compile(optimizer = 'adam', loss = 'sparse_categorical_crossentropy', metrics = ['accuracy'])\n",
    "\n",
    "model.fit(X_train, y_train, epochs = 10)\n",
    "\n",
    "test_loss, test_acc = model.evaluate(X_test, y_test)\n",
    "print(test_loss)\n",
    "print(test_acc)"
   ]
  },
  {
   "cell_type": "code",
   "execution_count": 11,
   "metadata": {
    "tags": []
   },
   "outputs": [
    {
     "output_type": "stream",
     "name": "stdout",
     "text": "WARNING:tensorflow:From <ipython-input-11-d56938f03509>:2: Sequential.predict_classes (from tensorflow.python.keras.engine.sequential) is deprecated and will be removed after 2021-01-01.\nInstructions for updating:\nPlease use instead:* `np.argmax(model.predict(x), axis=-1)`,   if your model does multi-class classification   (e.g. if it uses a `softmax` last-layer activation).* `(model.predict(x) > 0.5).astype(\"int32\")`,   if your model does binary classification   (e.g. if it uses a `sigmoid` last-layer activation).\n"
    },
    {
     "output_type": "execute_result",
     "data": {
      "text/plain": "0.8624"
     },
     "metadata": {},
     "execution_count": 11
    }
   ],
   "source": [
    "from sklearn.metrics import accuracy_score\n",
    "y_pred = model.predict_classes(X_test)\n",
    "accuracy_score(y_test, y_pred)"
   ]
  },
  {
   "cell_type": "code",
   "execution_count": null,
   "metadata": {},
   "outputs": [],
   "source": []
  }
 ]
}