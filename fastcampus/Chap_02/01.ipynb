{
 "metadata": {
  "language_info": {
   "codemirror_mode": {
    "name": "ipython",
    "version": 3
   },
   "file_extension": ".py",
   "mimetype": "text/x-python",
   "name": "python",
   "nbconvert_exporter": "python",
   "pygments_lexer": "ipython3",
   "version": "3.7.9-final"
  },
  "orig_nbformat": 2,
  "kernelspec": {
   "name": "python3",
   "display_name": "Python 3.7.9 64-bit ('torch': conda)",
   "metadata": {
    "interpreter": {
     "hash": "e6f3713aacb63e723142ec0502099100a8554c8484a81513712c8681b2f4c41b"
    }
   }
  }
 },
 "nbformat": 4,
 "nbformat_minor": 2,
 "cells": [
  {
   "cell_type": "code",
   "execution_count": 1,
   "metadata": {},
   "outputs": [],
   "source": [
    "import torch"
   ]
  },
  {
   "cell_type": "code",
   "execution_count": 2,
   "metadata": {},
   "outputs": [],
   "source": [
    "import os\n",
    "from glob import glob # 전체경로에서 공통적인 경로를 불러오면 리스트를 한번에 불러오는거\n",
    "\n",
    "import numpy as np\n",
    "from PIL import Image # 이미지 열 때\n",
    "\n",
    "import matplotlib.pyplot as plt\n",
    "\n",
    "%matplotlib inline"
   ]
  },
  {
   "cell_type": "code",
   "execution_count": 3,
   "metadata": {},
   "outputs": [],
   "source": [
    "import tensorflow as tf"
   ]
  },
  {
   "cell_type": "code",
   "execution_count": 4,
   "metadata": {},
   "outputs": [
    {
     "output_type": "stream",
     "name": "stdout",
     "text": [
      "c:\\Users\\kusw-04\\Desktop\\vsws\\deep\n"
     ]
    },
    {
     "output_type": "execute_result",
     "data": {
      "text/plain": [
       "['01.ipynb', '01real.ipynb', 'dataset']"
      ]
     },
     "metadata": {},
     "execution_count": 4
    }
   ],
   "source": [
    "# 경로 찾기\n",
    "print(os.getcwd()) # 현재경로\n",
    "os.listdir() # 현재 경로에있는 파일, 폴더 목록"
   ]
  },
  {
   "cell_type": "code",
   "execution_count": 5,
   "metadata": {},
   "outputs": [],
   "source": [
    "train_folder = './dataset/mnist_png/training'\n",
    "\n",
    "#os.listdir(train_folder)"
   ]
  },
  {
   "cell_type": "code",
   "execution_count": 6,
   "metadata": {},
   "outputs": [],
   "source": [
    "# 파일 하나하나의 풀 경로를 받고싶음\n",
    "\n",
    "data_paths = glob(f'{train_folder}/*/*.png')"
   ]
  },
  {
   "cell_type": "code",
   "execution_count": 7,
   "metadata": {},
   "outputs": [
    {
     "output_type": "execute_result",
     "data": {
      "text/plain": [
       "60000"
      ]
     },
     "metadata": {},
     "execution_count": 7
    }
   ],
   "source": [
    "len(data_paths)"
   ]
  },
  {
   "source": [
    "path = data_paths[0]"
   ],
   "cell_type": "code",
   "metadata": {},
   "execution_count": 8,
   "outputs": []
  },
  {
   "source": [
    "# 데이터 전처리"
   ],
   "cell_type": "markdown",
   "metadata": {}
  },
  {
   "cell_type": "code",
   "execution_count": 9,
   "metadata": {},
   "outputs": [],
   "source": [
    "label_nums = os.listdir(f'{train_folder}')"
   ]
  },
  {
   "source": [
    "## 데이터 별 개수 비교"
   ],
   "cell_type": "markdown",
   "metadata": {}
  },
  {
   "cell_type": "code",
   "execution_count": 10,
   "metadata": {},
   "outputs": [],
   "source": [
    "nums_dataset = []\n",
    "\n",
    "for lbl_n in label_nums:\n",
    "    data_per_class = os.listdir(f'{train_folder}/{lbl_n}')\n",
    "    nums_dataset.append(len(data_per_class))\n"
   ]
  },
  {
   "source": [
    "## Pillow로 이미지 열기"
   ],
   "cell_type": "markdown",
   "metadata": {}
  },
  {
   "cell_type": "code",
   "execution_count": 12,
   "metadata": {},
   "outputs": [
    {
     "output_type": "execute_result",
     "data": {
      "text/plain": [
       "(28, 28)"
      ]
     },
     "metadata": {},
     "execution_count": 12
    }
   ],
   "source": [
    "image_pil = Image.open(path)\n",
    "image = np.array(image_pil)\n",
    "\n",
    "image.shape"
   ]
  },
  {
   "source": [
    "## Tensorflow로도 열수있음"
   ],
   "cell_type": "markdown",
   "metadata": {}
  },
  {
   "cell_type": "code",
   "execution_count": 14,
   "metadata": {},
   "outputs": [
    {
     "output_type": "execute_result",
     "data": {
      "text/plain": [
       "TensorShape([28, 28, 1])"
      ]
     },
     "metadata": {},
     "execution_count": 14
    }
   ],
   "source": [
    "gfile = tf.io.read_file(path)\n",
    "image = tf.io.decode_image(gfile)\n",
    "\n",
    "image.shape"
   ]
  },
  {
   "cell_type": "code",
   "execution_count": 18,
   "metadata": {},
   "outputs": [
    {
     "output_type": "stream",
     "name": "stdout",
     "text": [
      "1\n"
     ]
    }
   ],
   "source": [
    "image[:, :, 0] # 이렇게 해줘야 plt.show 가능\n",
    "print(1)"
   ]
  },
  {
   "cell_type": "code",
   "execution_count": 17,
   "metadata": {},
   "outputs": [
    {
     "output_type": "error",
     "ename": "NameError",
     "evalue": "name '가능' is not defined",
     "traceback": [
      "\u001b[1;31m---------------------------------------------------------------------------\u001b[0m",
      "\u001b[1;31mNameError\u001b[0m                                 Traceback (most recent call last)",
      "\u001b[1;32m<ipython-input-17-1cb923009dfa>\u001b[0m in \u001b[0;36m<module>\u001b[1;34m\u001b[0m\n\u001b[1;32m----> 1\u001b[1;33m \u001b[0m가능\u001b[0m\u001b[1;33m\u001b[0m\u001b[1;33m\u001b[0m\u001b[0m\n\u001b[0m",
      "\u001b[1;31mNameError\u001b[0m: name '가능' is not defined"
     ]
    }
   ],
   "source": []
  },
  {
   "source": [
    "## Label 얻기"
   ],
   "cell_type": "markdown",
   "metadata": {}
  },
  {
   "cell_type": "code",
   "execution_count": 23,
   "metadata": {},
   "outputs": [
    {
     "output_type": "execute_result",
     "data": {
      "text/plain": [
       "0"
      ]
     },
     "metadata": {},
     "execution_count": 23
    }
   ],
   "source": [
    "label = path.split('\\\\')[-2]\n",
    "\n",
    "int(label)"
   ]
  },
  {
   "cell_type": "code",
   "execution_count": 24,
   "metadata": {},
   "outputs": [],
   "source": [
    "def get_label(path):\n",
    "    class_name = path.split('\\\\')[-2]\n",
    "    label = int(class_name)"
   ]
  },
  {
   "cell_type": "code",
   "execution_count": 25,
   "metadata": {},
   "outputs": [],
   "source": [
    "get_label(path)"
   ]
  },
  {
   "source": [
    "## 데이터 이미지 사이즈 알기\n",
    "> 데이터 사이즈가 다 달라서 사이즈를 읽고 이거에 맞춰서 개별적으로 resize를 해주는게 좋음"
   ],
   "cell_type": "markdown",
   "metadata": {}
  },
  {
   "cell_type": "code",
   "execution_count": 30,
   "metadata": {},
   "outputs": [],
   "source": [
    "from tqdm import tqdm_notebook # 진행과정을 프로그래스바로 표현해줌"
   ]
  },
  {
   "cell_type": "code",
   "execution_count": 31,
   "metadata": {},
   "outputs": [],
   "source": [
    "heights = []\n",
    "widths = []"
   ]
  },
  {
   "cell_type": "code",
   "execution_count": 32,
   "metadata": {},
   "outputs": [
    {
     "output_type": "execute_result",
     "data": {
      "text/plain": [
       "60000"
      ]
     },
     "metadata": {},
     "execution_count": 32
    }
   ],
   "source": [
    "len(data_paths)"
   ]
  },
  {
   "cell_type": "code",
   "execution_count": 33,
   "metadata": {},
   "outputs": [
    {
     "output_type": "display_data",
     "data": {
      "text/plain": "  0%|          | 0/60000 [00:00<?, ?it/s]",
      "application/vnd.jupyter.widget-view+json": {
       "version_major": 2,
       "version_minor": 0,
       "model_id": "4aea8bc473ee4def8a83772a6e0a2e16"
      }
     },
     "metadata": {}
    }
   ],
   "source": [
    "for path in tqdm_notebook(data_paths): # 여기서 이렇게 tqdm_notebook을 써주면 진행과정을 볼 수 있지롱\n",
    "    img_pil = Image.open(path)\n",
    "    image = np.array(img_pil)\n",
    "    h, w = image.shape\n",
    "\n",
    "    heights.append(h)\n",
    "    widths.append(w)"
   ]
  },
  {
   "source": [
    "print(np.unique(heights))\n",
    "print(np.unique(widths))    # 튀는 값 찾기"
   ],
   "cell_type": "code",
   "metadata": {},
   "execution_count": 36,
   "outputs": [
    {
     "output_type": "stream",
     "name": "stdout",
     "text": [
      "[28]\n[28]\n"
     ]
    }
   ]
  },
  {
   "source": [
    "plt.figure(figsize=(20, 10))\n",
    "\n",
    "---\n",
    "\n",
    "plt.subplot(121)\n",
    "plt.hist(heights)\n",
    "plt.title('Heights')\n",
    "\n",
    "plt.axvline(np.mean(heights), color = 'r', linestyle='dashed', linewidth=2) # 평균값\n",
    "\n",
    "---\n",
    "\n",
    "plt.subplot(122)\n",
    "plt.hist(widths)\n",
    "plt.title('Widths')\n",
    "\n",
    "plt.axvline(np.mean(heights), color = 'r', linestyle='dashed', linewidth=2)\n",
    "\n",
    "---\n",
    "\n",
    "plt.show()"
   ],
   "cell_type": "markdown",
   "metadata": {}
  },
  {
   "source": [
    "# 2차시"
   ],
   "cell_type": "markdown",
   "metadata": {}
  },
  {
   "cell_type": "code",
   "execution_count": 50,
   "metadata": {},
   "outputs": [],
   "source": [
    "data_paths = glob('./dataset/cifar/train/*.png') # 모든 /dataset/cifar/train... 폴더를 불러서 리스트에 넣음 근데 포인트는 '전체 상대경로를 표시해준다는거!\n",
    "# os.listdir 얘는 목록만 보여줌"
   ]
  },
  {
   "cell_type": "code",
   "execution_count": 53,
   "metadata": {},
   "outputs": [
    {
     "output_type": "execute_result",
     "data": {
      "text/plain": [
       "'./dataset/cifar/train\\\\0_frog.png'"
      ]
     },
     "metadata": {},
     "execution_count": 53
    }
   ],
   "source": [
    "path = data_paths[0]\n",
    "path"
   ]
  },
  {
   "cell_type": "code",
   "execution_count": 55,
   "metadata": {},
   "outputs": [],
   "source": [
    "gfile = tf.io.read_file(path)\n",
    "image = tf.io.decode_image(gfile, dtype=tf.float32)"
   ]
  },
  {
   "cell_type": "code",
   "execution_count": 57,
   "metadata": {},
   "outputs": [
    {
     "output_type": "execute_result",
     "data": {
      "text/plain": [
       "TensorShape([32, 32, 3])"
      ]
     },
     "metadata": {},
     "execution_count": 57
    }
   ],
   "source": [
    "image.shape"
   ]
  },
  {
   "cell_type": "code",
   "execution_count": 58,
   "metadata": {},
   "outputs": [],
   "source": [
    "def read_image(path):\n",
    "    gfile = tf.io.read_file(path)\n",
    "    image = tf.io.decode_image(gfile, dtype=tf.float32)\n",
    "    return image"
   ]
  },
  {
   "cell_type": "code",
   "execution_count": 66,
   "metadata": {},
   "outputs": [
    {
     "output_type": "stream",
     "name": "stdout",
     "text": [
      "1\n"
     ]
    }
   ],
   "source": [
    "read_image(data_paths[0])\n",
    "print(1)"
   ]
  },
  {
   "source": [
    "## Batch 사이즈 설정\n",
    "> 60000개의 데이터를 쪼개서 넣기"
   ],
   "cell_type": "markdown",
   "metadata": {}
  },
  {
   "cell_type": "code",
   "execution_count": 63,
   "metadata": {},
   "outputs": [],
   "source": [
    "import cv2"
   ]
  },
  {
   "cell_type": "code",
   "execution_count": 72,
   "metadata": {},
   "outputs": [],
   "source": [
    "batch_images = []"
   ]
  },
  {
   "cell_type": "code",
   "execution_count": 74,
   "metadata": {},
   "outputs": [],
   "source": [
    "for path in data_paths[:8]:\n",
    "    image = read_image(path)\n",
    "    #image = cv2.resize(image, (32, 32)) 지금은 이미지가 안읽혀서 안되는듯\n",
    "    batch_images.append(image)"
   ]
  },
  {
   "cell_type": "code",
   "execution_count": 76,
   "metadata": {},
   "outputs": [
    {
     "output_type": "execute_result",
     "data": {
      "text/plain": [
       "(8, 32, 32, 3)"
      ]
     },
     "metadata": {},
     "execution_count": 76
    }
   ],
   "source": [
    "np.array(batch_images).shape    # 사이즈가 동일(32x32)하지 않을 경우, ndarray꼴로 변경 안 묶일수도 있음"
   ]
  },
  {
   "cell_type": "code",
   "execution_count": 77,
   "metadata": {},
   "outputs": [],
   "source": [
    "batch = tf.convert_to_tensor(batch_images) # 이렇게 tensor로 묶을수도있지롱 근데 뭐 어차피 ndarray꼴로 바꿔도 tf가 tensor로 바꿔서 계산하긴함"
   ]
  },
  {
   "source": [
    "## tensor로 만들어주는 함수"
   ],
   "cell_type": "markdown",
   "metadata": {}
  },
  {
   "cell_type": "code",
   "execution_count": 81,
   "metadata": {},
   "outputs": [],
   "source": [
    "def make_batch(batch_paths):\n",
    "    \n",
    "    batch_images = []\n",
    "\n",
    "    for path in batch_paths:\n",
    "        image = read_image(path)\n",
    "        batch_images.append(image)\n",
    "    \n",
    "    return tf.convert_to_tensor(batch_images)   # tensor화 시키기"
   ]
  },
  {
   "cell_type": "code",
   "execution_count": 82,
   "metadata": {},
   "outputs": [],
   "source": [
    "batch_images = make_batch(data_paths[:8])"
   ]
  },
  {
   "cell_type": "code",
   "execution_count": 84,
   "metadata": {},
   "outputs": [
    {
     "output_type": "execute_result",
     "data": {
      "text/plain": [
       "TensorShape([8, 32, 32, 3])"
      ]
     },
     "metadata": {},
     "execution_count": 84
    }
   ],
   "source": [
    "batch_images.shape"
   ]
  },
  {
   "cell_type": "code",
   "execution_count": 87,
   "metadata": {},
   "outputs": [],
   "source": [
    "batch_size = 8\n",
    "for step in range(8):\n",
    "    batch_images = make_batch(data_paths[step * batch_size : (step+1) * batch_size])\n",
    "\n",
    "    # plt.imshow(batch_images[0])\n",
    "    # plt.show()"
   ]
  },
  {
   "source": [
    "# 3차시"
   ],
   "cell_type": "markdown",
   "metadata": {}
  },
  {
   "source": [
    "data_paths = glob('dataset/mnist_png/training/0/*png') "
   ],
   "cell_type": "code",
   "metadata": {},
   "execution_count": 90,
   "outputs": []
  },
  {
   "cell_type": "code",
   "execution_count": 91,
   "metadata": {},
   "outputs": [
    {
     "output_type": "execute_result",
     "data": {
      "text/plain": [
       "'dataset/mnist_png/training/0\\\\1.png'"
      ]
     },
     "metadata": {},
     "execution_count": 91
    }
   ],
   "source": [
    "path = data_paths[0]\n",
    "path"
   ]
  },
  {
   "cell_type": "code",
   "execution_count": 92,
   "metadata": {},
   "outputs": [
    {
     "output_type": "execute_result",
     "data": {
      "text/plain": [
       "<tf.Tensor: shape=(), dtype=string, numpy=b'.\\\\dataset\\\\mnist_png\\\\training\\\\0\\\\1.png'>"
      ]
     },
     "metadata": {},
     "execution_count": 92
    }
   ],
   "source": [
    "data_paths = tf.io.matching_files('./dataset/mnist_png/training/*/*.png')   # 이건 tensor 내장기능\n",
    "data_paths[0]"
   ]
  },
  {
   "cell_type": "code",
   "execution_count": 93,
   "metadata": {},
   "outputs": [],
   "source": [
    "gfile = tf.io.read_file(path)"
   ]
  },
  {
   "cell_type": "code",
   "execution_count": 94,
   "metadata": {},
   "outputs": [],
   "source": [
    "image = tf.io.decode_image(gfile)   # ndarray 꼴로 변경해줌"
   ]
  },
  {
   "cell_type": "code",
   "execution_count": 96,
   "metadata": {},
   "outputs": [
    {
     "output_type": "execute_result",
     "data": {
      "text/plain": [
       "TensorShape([28, 28, 1])"
      ]
     },
     "metadata": {},
     "execution_count": 96
    }
   ],
   "source": [
    "image.shape\n",
    "# plt.imshow(image[:, :, 0], 'gray')\n",
    "#plt.show()"
   ]
  },
  {
   "source": [
    "## Data Generator"
   ],
   "cell_type": "markdown",
   "metadata": {}
  },
  {
   "cell_type": "code",
   "execution_count": 97,
   "metadata": {},
   "outputs": [],
   "source": [
    "from tensorflow.keras.preprocessing.image import ImageDataGenerator"
   ]
  },
  {
   "cell_type": "code",
   "execution_count": 98,
   "metadata": {},
   "outputs": [],
   "source": [
    "datagen = ImageDataGenerator( #전처리할것들을 넣어주면됨 #Augmentation\n",
    "    rotation_range = 20,    # 사진돌리기\n",
    "    width_shift_range= 0.2,\n",
    "    height_shift_range = 0.2,\n",
    "    horizontal_flip = True\n",
    ")"
   ]
  },
  {
   "cell_type": "code",
   "execution_count": 100,
   "metadata": {},
   "outputs": [
    {
     "output_type": "execute_result",
     "data": {
      "text/plain": [
       "TensorShape([1, 28, 28, 1])"
      ]
     },
     "metadata": {},
     "execution_count": 100
    }
   ],
   "source": [
    "image.shape\n",
    "\n",
    "inputs = image[tf.newaxis, ...]\n",
    "inputs.shape"
   ]
  },
  {
   "cell_type": "code",
   "execution_count": null,
   "metadata": {},
   "outputs": [],
   "source": [
    "image = next(iter(datagen.flow(inputs)))  # Object객체에 있는 iter메소드를 이용하여 하나씩 엑세스할수있는 데이터타입으로 변환한뒤, next메소드를 이용하여 순서대로 하나씩 불러오기"
   ]
  },
  {
   "source": [
    "```python\n",
    "plt.subplot(121)\n",
    "plt.imshow(np.squeeze(inputs), 'gray')\n",
    "```"
   ],
   "cell_type": "markdown",
   "metadata": {}
  }
 ]
}