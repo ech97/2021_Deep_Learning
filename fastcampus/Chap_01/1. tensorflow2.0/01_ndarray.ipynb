{
 "metadata": {
  "language_info": {
   "codemirror_mode": {
    "name": "ipython",
    "version": 3
   },
   "file_extension": ".py",
   "mimetype": "text/x-python",
   "name": "python",
   "nbconvert_exporter": "python",
   "pygments_lexer": "ipython3",
   "version": "3.7.8-final"
  },
  "orig_nbformat": 2,
  "kernelspec": {
   "name": "python37864bittensorflowvenv10b5cbcd7cd74bb9aca26b9edce6abe3",
   "display_name": "Python 3.7.8 64-bit ('tensorflow': venv)",
   "language": "python"
  }
 },
 "nbformat": 4,
 "nbformat_minor": 2,
 "cells": [
  {
   "cell_type": "code",
   "execution_count": 1,
   "metadata": {},
   "outputs": [],
   "source": [
    "import numpy as np"
   ]
  },
  {
   "cell_type": "code",
   "execution_count": 2,
   "metadata": {},
   "outputs": [
    {
     "output_type": "stream",
     "name": "stdout",
     "text": [
      "(2, 3)\n"
     ]
    }
   ],
   "source": [
    "arr = np.array([[1, 2, 1], [1, 1, 1]])\n",
    "\n",
    "print(arr.shape)"
   ]
  },
  {
   "cell_type": "code",
   "execution_count": 7,
   "metadata": {},
   "outputs": [
    {
     "output_type": "stream",
     "name": "stdout",
     "text": [
      "(2, 2, 3, 3)\n"
     ]
    }
   ],
   "source": [
    "arr = np.array([\n",
    "[[[1, 1, 1], [1, 1, 1], [1, 1, 1]],\n",
    "[[1, 1, 1], [1, 1, 1], [1, 1, 1]]],\n",
    "[[[2, 2, 2], [2, 2, 2], [2, 2, 2]],\n",
    "[[2, 2, 2], [2, 2, 2], [2, 2, 2]]]\n",
    "]\n",
    ")\n",
    "\n",
    "print(arr.shape)\n"
   ]
  },
  {
   "cell_type": "code",
   "execution_count": 8,
   "metadata": {},
   "outputs": [
    {
     "output_type": "stream",
     "name": "stdout",
     "text": [
      "(3, 3, 1)\n"
     ]
    }
   ],
   "source": [
    "arr = np.array([ [[1], [2], [3]], [[1], [2], [3]], [[1], [2], [3]] ])\n",
    "print(arr.shape)\n"
   ]
  },
  {
   "cell_type": "code",
   "execution_count": 19,
   "metadata": {},
   "outputs": [
    {
     "output_type": "stream",
     "name": "stdout",
     "text": [
      "[[0 1 2]\n [3 4 5]\n [6 7 8]]\n[[6 7 8]\n [3 4 5]\n [0 1 2]]\n"
     ]
    }
   ],
   "source": [
    "arr = np.arange(9).reshape(3, 3)\n"
   ]
  },
  {
   "cell_type": "code",
   "execution_count": 24,
   "metadata": {},
   "outputs": [
    {
     "output_type": "stream",
     "name": "stdout",
     "text": [
      "[[[2 2 3]\n  [1 3 3]\n  [3 2 1]]\n\n [[1 1 2]\n  [3 3 2]\n  [1 2 2]]\n\n [[2 3 4]\n  [2 3 4]\n  [1 3 2]]]\n"
     ]
    }
   ],
   "source": [
    "arr = np.random.randint(3, size=27).reshape(3, 3, 3)\n",
    "arr_2 = np.random.randint(4, size=9).reshape(3, 3)\n",
    "\n",
    "arr = arr + arr_2\n",
    "print(arr)"
   ]
  },
  {
   "cell_type": "code",
   "execution_count": 27,
   "metadata": {},
   "outputs": [
    {
     "output_type": "execute_result",
     "data": {
      "text/plain": [
       "array([[ 6,  7,  7],\n",
       "       [ 5,  6,  6],\n",
       "       [ 5,  9, 10]])"
      ]
     },
     "metadata": {},
     "execution_count": 27
    }
   ],
   "source": [
    "np.sum(arr, axis=1)"
   ]
  },
  {
   "cell_type": "code",
   "execution_count": 29,
   "metadata": {},
   "outputs": [
    {
     "output_type": "stream",
     "name": "stdout",
     "text": [
      "[[[ 0  1  2  3]\n  [ 4  5  6  7]]\n\n [[ 8  9 10 11]\n  [12 13 14 15]]\n\n [[16 17 18 19]\n  [20 21 22 23]]\n\n [[24 25 26 27]\n  [28 29 30 31]]]\n"
     ]
    }
   ],
   "source": [
    "arr = np.arange(32)\n",
    "v = arr.reshape([4, 2, 4])\n",
    "print(v)"
   ]
  },
  {
   "cell_type": "code",
   "execution_count": 38,
   "metadata": {},
   "outputs": [
    {
     "output_type": "execute_result",
     "data": {
      "text/plain": [
       "array([[  6,  22],\n",
       "       [ 38,  54],\n",
       "       [ 70,  86],\n",
       "       [102, 118]])"
      ]
     },
     "metadata": {},
     "execution_count": 38
    }
   ],
   "source": [
    "np.sum(v, -1)"
   ]
  },
  {
   "cell_type": "code",
   "execution_count": 63,
   "metadata": {},
   "outputs": [
    {
     "output_type": "stream",
     "name": "stdout",
     "text": [
      "(4, 2, 4)\n"
     ]
    }
   ],
   "source": [
    "\n",
    "arr = np.arange(32).reshape(4, 2, 4)\n",
    "\n",
    "arr = np.expand_dims(arr, -1)\n",
    "\n",
    "print(arr.shape)"
   ]
  }
 ]
}