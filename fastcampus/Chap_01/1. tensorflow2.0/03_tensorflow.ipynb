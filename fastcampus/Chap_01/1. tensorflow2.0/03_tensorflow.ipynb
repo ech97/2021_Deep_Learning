{
 "metadata": {
  "language_info": {
   "codemirror_mode": {
    "name": "ipython",
    "version": 3
   },
   "file_extension": ".py",
   "mimetype": "text/x-python",
   "name": "python",
   "nbconvert_exporter": "python",
   "pygments_lexer": "ipython3",
   "version": "3.7.8-final"
  },
  "orig_nbformat": 2,
  "kernelspec": {
   "name": "python37864bittensorflowvenv10b5cbcd7cd74bb9aca26b9edce6abe3",
   "display_name": "Python 3.7.8 64-bit ('tensorflow': venv)",
   "language": "python"
  }
 },
 "nbformat": 4,
 "nbformat_minor": 2,
 "cells": [
  {
   "cell_type": "code",
   "execution_count": 2,
   "metadata": {},
   "outputs": [],
   "source": [
    "import numpy as np\n",
    "import tensorflow as tf"
   ]
  },
  {
   "cell_type": "code",
   "execution_count": 6,
   "metadata": {},
   "outputs": [],
   "source": [
    "#numpy\n",
    "arr = [[1,2,3], [4,5,6]]\n",
    "arr= np.array(arr)"
   ]
  },
  {
   "cell_type": "code",
   "execution_count": 20,
   "metadata": {},
   "outputs": [
    {
     "output_type": "execute_result",
     "data": {
      "text/plain": [
       "<tf.Tensor: shape=(2, 3), dtype=uint8, numpy=\n",
       "array([[1, 2, 3],\n",
       "       [4, 5, 6]], dtype=uint8)>"
      ]
     },
     "metadata": {},
     "execution_count": 20
    }
   ],
   "source": [
    "#tensorflow\n",
    "tensor = tf.constant(arr)\n",
    "tf.constant(((1,2,3), (4,5,6)), dtype=tf.float32) #tuple도 가능하며, 데이터타입 지정가능\n",
    "\n",
    "\n",
    "tf.cast(tensor, dtype=tf.uint8) #np.astype과 같이 tf에서는 tf.cast"
   ]
  },
  {
   "cell_type": "code",
   "execution_count": 22,
   "metadata": {},
   "outputs": [
    {
     "output_type": "execute_result",
     "data": {
      "text/plain": [
       "tf.int32"
      ]
     },
     "metadata": {},
     "execution_count": 22
    }
   ],
   "source": [
    "tensor.shape\n",
    "tensor.dtype"
   ]
  },
  {
   "cell_type": "code",
   "execution_count": 25,
   "metadata": {},
   "outputs": [
    {
     "output_type": "execute_result",
     "data": {
      "text/plain": [
       "numpy.ndarray"
      ]
     },
     "metadata": {},
     "execution_count": 25
    }
   ],
   "source": [
    "# tensor <-> numpy\n",
    "np.array(tensor)\n",
    "tensor.numpy()\n",
    "\n",
    "type(tensor.numpy())"
   ]
  },
  {
   "cell_type": "code",
   "execution_count": 102,
   "metadata": {},
   "outputs": [
    {
     "output_type": "execute_result",
     "data": {
      "text/plain": [
       "<tf.Tensor: shape=(3, 3), dtype=float32, numpy=\n",
       "array([[0.03743064, 0.13103056, 0.13187253],\n",
       "       [0.3914876 , 0.35653675, 0.17788851],\n",
       "       [0.970153  , 0.5195459 , 0.02306914]], dtype=float32)>"
      ]
     },
     "metadata": {},
     "execution_count": 102
    }
   ],
   "source": [
    "np.random.randn(9) # 표준정규분포에서 9개의 난수 추출\n",
    "# np.random.uniform(최소, 최대, 개수) # 9보다 작은 임의의 난수 추출\n",
    "\n",
    "tf.random.normal([3, 3]) # 표준정규분포에서 난수추출\n",
    "tf.random.uniform([3, 3]) # 0~1사이 랜덤값 추출, param설정으로 범위 변경 가능 minval = 10\n"
   ]
  }
 ]
}